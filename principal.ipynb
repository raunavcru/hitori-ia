{
 "cells": [
  {
   "cell_type": "code",
   "execution_count": 1,
   "metadata": {},
   "outputs": [],
   "source": [
    "import problema_espacio_estados as probee\n",
    "import búsqueda_espacio_estados as búsqee\n",
    "import copy"
   ]
  },
  {
   "cell_type": "code",
   "execution_count": null,
   "metadata": {
    "scrolled": true
   },
   "outputs": [],
   "source": []
  },
  {
   "cell_type": "code",
   "execution_count": 194,
   "metadata": {},
   "outputs": [],
   "source": [
    "class Hitori:\n",
    "    def __init__(self, casillas):\n",
    "        self.casillas = casillas\n",
    "    \n",
    "    def tamaño_hor(self):\n",
    "        return len(self.casillas[0])\n",
    "    \n",
    "    def tamaño_ver(self):\n",
    "        return len(self.casillas)\n",
    "    \n",
    "    def valor_casilla(self, f, c):\n",
    "        return self.casillas[f][c]    \n",
    "    \n",
    "    def es_aplicable(self,estado):\n",
    "        result = True\n",
    "        \n",
    "        for i in range(0, Hitori.tamaño_hor(estado)-1):\n",
    "            for j in range(0, Hitori.tamaño_ver(estado)-1):\n",
    "                \n",
    "                if Hitori.valor_casilla(estado,i,j) <= max(Hitori.tamaño_hor(estado), Hitori.tamaño_ver(estado)):\n",
    "                    result = result and True\n",
    "                else:\n",
    "                    result = result and False"
   ]
  },
  {
   "cell_type": "code",
   "execution_count": 275,
   "metadata": {},
   "outputs": [],
   "source": [
    "class Accion(probee.Acción):\n",
    "    def __init__(self, i, j):\n",
    "        nombre = 'posición {},{}'.format(i, j)\n",
    "        super().__init__(nombre)\n",
    "        self.f = i\n",
    "        self.c = j\n",
    "        \n",
    "    def es_negro(self, estado, f, c):\n",
    "        return bool(Hitori.valor_casilla(estado,f,c) == 0)\n",
    "    \n",
    "    def es_blanco(self, f, c):\n",
    "        return not bool(Hitori.valor_casilla(self,f,c) == 0)\n",
    "    \n",
    "    def negro_colindante(self, estado):\n",
    "        return bool(self.es_negro(estado, (self.f)+1, self.c)\n",
    "                       or self.es_negro(estado, (self.f)-1, self.c)\n",
    "                       or self.es_negro(estado, self.f, (self.c)+1)\n",
    "                       or self.es_negro(estado, self.f, (self.c)-1))\n",
    "    \n",
    "    def duplicado_fila(self, f, c):\n",
    "        result = False\n",
    "        tamaño = Hitori.tamaño_hor(self)\n",
    "        limite_izq = f\n",
    "        limite_der = tamaño\n",
    "        for i in range(0, limite_izq):\n",
    "            if Hitori.valor_casilla(self,f,i) == Hitori.valor_casilla(self,f,c):\n",
    "                result = True\n",
    "                \n",
    "        for j in range(f+1, limite_der):\n",
    "             if Hitori.valor_casilla(self,f,j) == Hitori.valor_casilla(self,f,c):\n",
    "                result = True\n",
    "                \n",
    "        return result\n",
    "    \n",
    "    def duplicado_columna(self, f, c):\n",
    "        result = False\n",
    "        tamaño = Hitori.tamaño_ver(self)\n",
    "        limite_izq = f\n",
    "        limite_der = tamaño\n",
    "        for i in range(0, limite_izq):\n",
    "            if Hitori.valor_casilla(self,i,c) == Hitori.valor_casilla(self,f,c):\n",
    "                result = True\n",
    "                \n",
    "        for j in range(f+1, limite_der):\n",
    "             if Hitori.valor_casilla(self,j,c) == Hitori.valor_casilla(self,f,c):\n",
    "                result = True\n",
    "                \n",
    "        return result\n",
    "        \n",
    "    \n",
    "    def es_aplicable(self, estado):\n",
    "        return not bool(self.negro_colindante(estado))\n",
    "        \n",
    "    \n",
    "    def aplicar(self, estado):\n",
    "        nuevo_estado = copy.deepcopy(estado)\n",
    "        nuevo_estado.casillas[self.f][self.c] = 0\n",
    "        return nuevo_estado"
   ]
  },
  {
   "cell_type": "code",
   "execution_count": 285,
   "metadata": {},
   "outputs": [],
   "source": [
    "estado_inicial = Hitori([[1,2,1],\n",
    "                         [2,2,1],\n",
    "                         [3,1,2]])"
   ]
  },
  {
   "cell_type": "code",
   "execution_count": 286,
   "metadata": {},
   "outputs": [],
   "source": [
    "estado_final = Hitori([[1,2,0],\n",
    "                       [2,0,1],\n",
    "                       [3,1,2]])"
   ]
  },
  {
   "cell_type": "code",
   "execution_count": 287,
   "metadata": {},
   "outputs": [
    {
     "name": "stdout",
     "output_type": "stream",
     "text": [
      "True\n"
     ]
    }
   ],
   "source": [
    "print(Accion.duplicado_fila(estado_inicial,1,0))"
   ]
  },
  {
   "cell_type": "code",
   "execution_count": 288,
   "metadata": {},
   "outputs": [],
   "source": [
    "acciones = [Accion (i,j) for i in range(0, Hitori.tamaño_hor(estado_inicial)) for j in range(0, Hitori.tamaño_ver(estado_inicial))]"
   ]
  },
  {
   "cell_type": "code",
   "execution_count": 289,
   "metadata": {},
   "outputs": [
    {
     "data": {
      "text/plain": [
       "[<__main__.Accion at 0x20f25f8bac8>,\n",
       " <__main__.Accion at 0x20f25f8bc18>,\n",
       " <__main__.Accion at 0x20f25f8b978>,\n",
       " <__main__.Accion at 0x20f25f8b6d8>,\n",
       " <__main__.Accion at 0x20f25f8b748>,\n",
       " <__main__.Accion at 0x20f25f8b9e8>,\n",
       " <__main__.Accion at 0x20f25f8bdd8>,\n",
       " <__main__.Accion at 0x20f25f8b4a8>,\n",
       " <__main__.Accion at 0x20f25f8ba58>]"
      ]
     },
     "execution_count": 289,
     "metadata": {},
     "output_type": "execute_result"
    }
   ],
   "source": [
    "acciones"
   ]
  },
  {
   "cell_type": "code",
   "execution_count": 290,
   "metadata": {},
   "outputs": [
    {
     "data": {
      "text/plain": [
       "0"
      ]
     },
     "execution_count": 290,
     "metadata": {},
     "output_type": "execute_result"
    }
   ],
   "source": [
    "Hitori.valor_casilla(estado_inicial,0,0)\n"
   ]
  },
  {
   "cell_type": "code",
   "execution_count": 291,
   "metadata": {},
   "outputs": [],
   "source": [
    "problema = probee.ProblemaEspacioEstados(acciones, estado_inicial, [estado_final])\n"
   ]
  },
  {
   "cell_type": "code",
   "execution_count": 292,
   "metadata": {},
   "outputs": [
    {
     "name": "stdout",
     "output_type": "stream",
     "text": [
      "b_optima_nueva.buscar[problema]\n",
      "\n",
      "\n",
      "b_optima_nueva.buscar[problema]\n",
      "Nodo: Estado: <__main__.Hitori object at 0x0000020F25F72A58>; Prof: 0\n"
     ]
    },
    {
     "ename": "IndexError",
     "evalue": "list index out of range",
     "output_type": "error",
     "traceback": [
      "\u001b[1;31m---------------------------------------------------------------------------\u001b[0m",
      "\u001b[1;31mIndexError\u001b[0m                                Traceback (most recent call last)",
      "\u001b[1;32m<ipython-input-292-9aa3c7194a38>\u001b[0m in \u001b[0;36m<module>\u001b[1;34m\u001b[0m\n\u001b[0;32m      3\u001b[0m \u001b[0mprint\u001b[0m\u001b[1;33m(\u001b[0m\u001b[1;34m\"\\n\"\u001b[0m\u001b[1;33m)\u001b[0m\u001b[1;33m\u001b[0m\u001b[1;33m\u001b[0m\u001b[0m\n\u001b[0;32m      4\u001b[0m \u001b[0mprint\u001b[0m\u001b[1;33m(\u001b[0m\u001b[1;34m\"b_optima_nueva.buscar[problema]\"\u001b[0m\u001b[1;33m)\u001b[0m\u001b[1;33m\u001b[0m\u001b[1;33m\u001b[0m\u001b[0m\n\u001b[1;32m----> 5\u001b[1;33m \u001b[0mb_optima_nueva\u001b[0m\u001b[1;33m.\u001b[0m\u001b[0mbuscar\u001b[0m\u001b[1;33m(\u001b[0m\u001b[0mproblema\u001b[0m\u001b[1;33m)\u001b[0m\u001b[1;33m\u001b[0m\u001b[1;33m\u001b[0m\u001b[0m\n\u001b[0m",
      "\u001b[1;32m~\\Desktop\\Hitori\\búsqueda_espacio_estados.py\u001b[0m in \u001b[0;36mbuscar\u001b[1;34m(self, problema)\u001b[0m\n\u001b[0;32m    142\u001b[0m             \u001b[1;32mif\u001b[0m \u001b[0mself\u001b[0m\u001b[1;33m.\u001b[0m\u001b[0mes_expandible\u001b[0m\u001b[1;33m(\u001b[0m\u001b[0mnodo\u001b[0m\u001b[1;33m)\u001b[0m\u001b[1;33m:\u001b[0m\u001b[1;33m\u001b[0m\u001b[1;33m\u001b[0m\u001b[0m\n\u001b[0;32m    143\u001b[0m                 \u001b[0mnodos_hijos\u001b[0m \u001b[1;33m=\u001b[0m \u001b[0mself\u001b[0m\u001b[1;33m.\u001b[0m\u001b[0mexpandir_nodo\u001b[0m\u001b[1;33m(\u001b[0m\u001b[0mnodo\u001b[0m\u001b[1;33m,\u001b[0m \u001b[0mproblema\u001b[0m\u001b[1;33m)\u001b[0m\u001b[1;33m\u001b[0m\u001b[1;33m\u001b[0m\u001b[0m\n\u001b[1;32m--> 144\u001b[1;33m                 \u001b[1;32mfor\u001b[0m \u001b[0mnodo_hijo\u001b[0m \u001b[1;32min\u001b[0m \u001b[0mnodos_hijos\u001b[0m\u001b[1;33m:\u001b[0m\u001b[1;33m\u001b[0m\u001b[1;33m\u001b[0m\u001b[0m\n\u001b[0m\u001b[0;32m    145\u001b[0m                     \u001b[1;32mif\u001b[0m \u001b[0mself\u001b[0m\u001b[1;33m.\u001b[0m\u001b[0mes_nuevo\u001b[0m\u001b[1;33m(\u001b[0m\u001b[0mnodo_hijo\u001b[0m\u001b[1;33m)\u001b[0m\u001b[1;33m:\u001b[0m\u001b[1;33m\u001b[0m\u001b[1;33m\u001b[0m\u001b[0m\n\u001b[0;32m    146\u001b[0m                         \u001b[0mself\u001b[0m\u001b[1;33m.\u001b[0m\u001b[0mfrontera\u001b[0m\u001b[1;33m.\u001b[0m\u001b[0mañadir\u001b[0m\u001b[1;33m(\u001b[0m\u001b[0mnodo_hijo\u001b[0m\u001b[1;33m)\u001b[0m\u001b[1;33m\u001b[0m\u001b[1;33m\u001b[0m\u001b[0m\n",
      "\u001b[1;32m~\\Desktop\\Hitori\\búsqueda_espacio_estados.py\u001b[0m in \u001b[0;36m<genexpr>\u001b[1;34m(.0)\u001b[0m\n\u001b[0;32m    120\u001b[0m \u001b[1;33m\u001b[0m\u001b[0m\n\u001b[0;32m    121\u001b[0m     \u001b[1;32mdef\u001b[0m \u001b[0mexpandir_nodo\u001b[0m\u001b[1;33m(\u001b[0m\u001b[0mself\u001b[0m\u001b[1;33m,\u001b[0m \u001b[0mnodo\u001b[0m\u001b[1;33m,\u001b[0m \u001b[0mproblema\u001b[0m\u001b[1;33m)\u001b[0m\u001b[1;33m:\u001b[0m\u001b[1;33m\u001b[0m\u001b[1;33m\u001b[0m\u001b[0m\n\u001b[1;32m--> 122\u001b[1;33m         return (nodo.sucesor(acción)\n\u001b[0m\u001b[0;32m    123\u001b[0m                 for acción in problema.acciones_aplicables(nodo.estado))\n\u001b[0;32m    124\u001b[0m \u001b[1;33m\u001b[0m\u001b[0m\n",
      "\u001b[1;32m~\\Desktop\\Hitori\\problema_espacio_estados.py\u001b[0m in \u001b[0;36m<genexpr>\u001b[1;34m(.0)\u001b[0m\n\u001b[0;32m     45\u001b[0m         return (acción\n\u001b[0;32m     46\u001b[0m                 \u001b[1;32mfor\u001b[0m \u001b[0macción\u001b[0m \u001b[1;32min\u001b[0m \u001b[0mself\u001b[0m\u001b[1;33m.\u001b[0m\u001b[0macciones\u001b[0m\u001b[1;33m\u001b[0m\u001b[1;33m\u001b[0m\u001b[0m\n\u001b[1;32m---> 47\u001b[1;33m                 if acción.es_aplicable(estado))\n\u001b[0m",
      "\u001b[1;32m<ipython-input-275-7f40ce311daf>\u001b[0m in \u001b[0;36mes_aplicable\u001b[1;34m(self, estado)\u001b[0m\n\u001b[0;32m     50\u001b[0m \u001b[1;33m\u001b[0m\u001b[0m\n\u001b[0;32m     51\u001b[0m     \u001b[1;32mdef\u001b[0m \u001b[0mes_aplicable\u001b[0m\u001b[1;33m(\u001b[0m\u001b[0mself\u001b[0m\u001b[1;33m,\u001b[0m \u001b[0mestado\u001b[0m\u001b[1;33m)\u001b[0m\u001b[1;33m:\u001b[0m\u001b[1;33m\u001b[0m\u001b[1;33m\u001b[0m\u001b[0m\n\u001b[1;32m---> 52\u001b[1;33m         \u001b[1;32mreturn\u001b[0m \u001b[1;32mnot\u001b[0m \u001b[0mbool\u001b[0m\u001b[1;33m(\u001b[0m\u001b[0mself\u001b[0m\u001b[1;33m.\u001b[0m\u001b[0mnegro_colindante\u001b[0m\u001b[1;33m(\u001b[0m\u001b[0mestado\u001b[0m\u001b[1;33m)\u001b[0m\u001b[1;33m)\u001b[0m\u001b[1;33m\u001b[0m\u001b[1;33m\u001b[0m\u001b[0m\n\u001b[0m\u001b[0;32m     53\u001b[0m \u001b[1;33m\u001b[0m\u001b[0m\n\u001b[0;32m     54\u001b[0m \u001b[1;33m\u001b[0m\u001b[0m\n",
      "\u001b[1;32m<ipython-input-275-7f40ce311daf>\u001b[0m in \u001b[0;36mnegro_colindante\u001b[1;34m(self, estado)\u001b[0m\n\u001b[0;32m     15\u001b[0m         return bool(self.es_negro(estado, (self.f)+1, self.c)\n\u001b[0;32m     16\u001b[0m                        \u001b[1;32mor\u001b[0m \u001b[0mself\u001b[0m\u001b[1;33m.\u001b[0m\u001b[0mes_negro\u001b[0m\u001b[1;33m(\u001b[0m\u001b[0mestado\u001b[0m\u001b[1;33m,\u001b[0m \u001b[1;33m(\u001b[0m\u001b[0mself\u001b[0m\u001b[1;33m.\u001b[0m\u001b[0mf\u001b[0m\u001b[1;33m)\u001b[0m\u001b[1;33m-\u001b[0m\u001b[1;36m1\u001b[0m\u001b[1;33m,\u001b[0m \u001b[0mself\u001b[0m\u001b[1;33m.\u001b[0m\u001b[0mc\u001b[0m\u001b[1;33m)\u001b[0m\u001b[1;33m\u001b[0m\u001b[1;33m\u001b[0m\u001b[0m\n\u001b[1;32m---> 17\u001b[1;33m                        \u001b[1;32mor\u001b[0m \u001b[0mself\u001b[0m\u001b[1;33m.\u001b[0m\u001b[0mes_negro\u001b[0m\u001b[1;33m(\u001b[0m\u001b[0mestado\u001b[0m\u001b[1;33m,\u001b[0m \u001b[0mself\u001b[0m\u001b[1;33m.\u001b[0m\u001b[0mf\u001b[0m\u001b[1;33m,\u001b[0m \u001b[1;33m(\u001b[0m\u001b[0mself\u001b[0m\u001b[1;33m.\u001b[0m\u001b[0mc\u001b[0m\u001b[1;33m)\u001b[0m\u001b[1;33m+\u001b[0m\u001b[1;36m1\u001b[0m\u001b[1;33m)\u001b[0m\u001b[1;33m\u001b[0m\u001b[1;33m\u001b[0m\u001b[0m\n\u001b[0m\u001b[0;32m     18\u001b[0m                        or self.es_negro(estado, self.f, (self.c)-1))\n\u001b[0;32m     19\u001b[0m \u001b[1;33m\u001b[0m\u001b[0m\n",
      "\u001b[1;32m<ipython-input-275-7f40ce311daf>\u001b[0m in \u001b[0;36mes_negro\u001b[1;34m(self, estado, f, c)\u001b[0m\n\u001b[0;32m      7\u001b[0m \u001b[1;33m\u001b[0m\u001b[0m\n\u001b[0;32m      8\u001b[0m     \u001b[1;32mdef\u001b[0m \u001b[0mes_negro\u001b[0m\u001b[1;33m(\u001b[0m\u001b[0mself\u001b[0m\u001b[1;33m,\u001b[0m \u001b[0mestado\u001b[0m\u001b[1;33m,\u001b[0m \u001b[0mf\u001b[0m\u001b[1;33m,\u001b[0m \u001b[0mc\u001b[0m\u001b[1;33m)\u001b[0m\u001b[1;33m:\u001b[0m\u001b[1;33m\u001b[0m\u001b[1;33m\u001b[0m\u001b[0m\n\u001b[1;32m----> 9\u001b[1;33m         \u001b[1;32mreturn\u001b[0m \u001b[0mbool\u001b[0m\u001b[1;33m(\u001b[0m\u001b[0mHitori\u001b[0m\u001b[1;33m.\u001b[0m\u001b[0mvalor_casilla\u001b[0m\u001b[1;33m(\u001b[0m\u001b[0mestado\u001b[0m\u001b[1;33m,\u001b[0m\u001b[0mf\u001b[0m\u001b[1;33m,\u001b[0m\u001b[0mc\u001b[0m\u001b[1;33m)\u001b[0m \u001b[1;33m==\u001b[0m \u001b[1;36m0\u001b[0m\u001b[1;33m)\u001b[0m\u001b[1;33m\u001b[0m\u001b[1;33m\u001b[0m\u001b[0m\n\u001b[0m\u001b[0;32m     10\u001b[0m \u001b[1;33m\u001b[0m\u001b[0m\n\u001b[0;32m     11\u001b[0m     \u001b[1;32mdef\u001b[0m \u001b[0mes_blanco\u001b[0m\u001b[1;33m(\u001b[0m\u001b[0mself\u001b[0m\u001b[1;33m,\u001b[0m \u001b[0mf\u001b[0m\u001b[1;33m,\u001b[0m \u001b[0mc\u001b[0m\u001b[1;33m)\u001b[0m\u001b[1;33m:\u001b[0m\u001b[1;33m\u001b[0m\u001b[1;33m\u001b[0m\u001b[0m\n",
      "\u001b[1;32m<ipython-input-194-9b99240c49bb>\u001b[0m in \u001b[0;36mvalor_casilla\u001b[1;34m(self, f, c)\u001b[0m\n\u001b[0;32m     10\u001b[0m \u001b[1;33m\u001b[0m\u001b[0m\n\u001b[0;32m     11\u001b[0m     \u001b[1;32mdef\u001b[0m \u001b[0mvalor_casilla\u001b[0m\u001b[1;33m(\u001b[0m\u001b[0mself\u001b[0m\u001b[1;33m,\u001b[0m \u001b[0mf\u001b[0m\u001b[1;33m,\u001b[0m \u001b[0mc\u001b[0m\u001b[1;33m)\u001b[0m\u001b[1;33m:\u001b[0m\u001b[1;33m\u001b[0m\u001b[1;33m\u001b[0m\u001b[0m\n\u001b[1;32m---> 12\u001b[1;33m         \u001b[1;32mreturn\u001b[0m \u001b[0mself\u001b[0m\u001b[1;33m.\u001b[0m\u001b[0mcasillas\u001b[0m\u001b[1;33m[\u001b[0m\u001b[0mf\u001b[0m\u001b[1;33m]\u001b[0m\u001b[1;33m[\u001b[0m\u001b[0mc\u001b[0m\u001b[1;33m]\u001b[0m\u001b[1;33m\u001b[0m\u001b[1;33m\u001b[0m\u001b[0m\n\u001b[0m\u001b[0;32m     13\u001b[0m \u001b[1;33m\u001b[0m\u001b[0m\n\u001b[0;32m     14\u001b[0m     \u001b[1;32mdef\u001b[0m \u001b[0mes_aplicable\u001b[0m\u001b[1;33m(\u001b[0m\u001b[0mself\u001b[0m\u001b[1;33m,\u001b[0m\u001b[0mestado\u001b[0m\u001b[1;33m)\u001b[0m\u001b[1;33m:\u001b[0m\u001b[1;33m\u001b[0m\u001b[1;33m\u001b[0m\u001b[0m\n",
      "\u001b[1;31mIndexError\u001b[0m: list index out of range"
     ]
    }
   ],
   "source": [
    "print(\"b_optima_nueva.buscar[problema]\")\n",
    "b_optima_nueva = búsqee.BúsquedaEnProfundidad(detallado=True)\n",
    "print(\"\\n\")\n",
    "print(\"b_optima_nueva.buscar[problema]\")\n",
    "b_optima_nueva.buscar(problema)"
   ]
  },
  {
   "cell_type": "code",
   "execution_count": 293,
   "metadata": {},
   "outputs": [
    {
     "data": {
      "text/plain": [
       "False"
      ]
     },
     "execution_count": 293,
     "metadata": {},
     "output_type": "execute_result"
    }
   ],
   "source": [
    "acciones[0].es_aplicable(estado_inicial)"
   ]
  },
  {
   "cell_type": "code",
   "execution_count": null,
   "metadata": {},
   "outputs": [],
   "source": []
  },
  {
   "cell_type": "code",
   "execution_count": null,
   "metadata": {},
   "outputs": [],
   "source": []
  },
  {
   "cell_type": "code",
   "execution_count": null,
   "metadata": {},
   "outputs": [],
   "source": []
  },
  {
   "cell_type": "code",
   "execution_count": null,
   "metadata": {},
   "outputs": [],
   "source": []
  }
 ],
 "metadata": {
  "kernelspec": {
   "display_name": "Python 3",
   "language": "python",
   "name": "python3"
  },
  "language_info": {
   "codemirror_mode": {
    "name": "ipython",
    "version": 3
   },
   "file_extension": ".py",
   "mimetype": "text/x-python",
   "name": "python",
   "nbconvert_exporter": "python",
   "pygments_lexer": "ipython3",
   "version": "3.7.1"
  }
 },
 "nbformat": 4,
 "nbformat_minor": 2
}
