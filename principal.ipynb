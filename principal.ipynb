{
 "cells": [
  {
   "cell_type": "code",
   "execution_count": 537,
   "metadata": {},
   "outputs": [],
   "source": [
    "import problema_espacio_estados as probee\n",
    "import búsqueda_espacio_estados as búsqee\n",
    "import copy"
   ]
  },
  {
   "cell_type": "code",
   "execution_count": null,
   "metadata": {
    "scrolled": true
   },
   "outputs": [],
   "source": []
  },
  {
   "cell_type": "code",
   "execution_count": 538,
   "metadata": {},
   "outputs": [],
   "source": [
    "class Hitori:\n",
    "    def __init__(self, casillas):\n",
    "        self.casillas = casillas\n",
    "    \n",
    "    def tamaño_hor(self):\n",
    "        return len(self.casillas[0])\n",
    "    \n",
    "    def tamaño_ver(self):\n",
    "        return len(self.casillas)\n",
    "    \n",
    "    def valor_casilla(self, f, c):\n",
    "        return self.casillas[f][c]    \n",
    "    \n",
    "    def __str__(self):\n",
    "        cadena = str(self.casillas)\n",
    "        \n",
    "        return cadena\n",
    "    \n",
    "    def es_aplicable(self,estado):\n",
    "        result = True\n",
    "        \n",
    "        for i in range(0, Hitori.tamaño_hor(estado)-1):\n",
    "            for j in range(0, Hitori.tamaño_ver(estado)-1):\n",
    "                \n",
    "                if Hitori.valor_casilla(estado,i,j) <= max(Hitori.tamaño_hor(estado), Hitori.tamaño_ver(estado)):\n",
    "                    result = result and True\n",
    "                else:\n",
    "                    result = result and False"
   ]
  },
  {
   "cell_type": "code",
   "execution_count": 539,
   "metadata": {},
   "outputs": [],
   "source": [
    "class Poner_negro(probee.Acción):\n",
    "    def __init__(self, i, j):\n",
    "        nombre = 'posición {},{}'.format(i, j)\n",
    "        super().__init__(nombre)\n",
    "        self.f = i\n",
    "        self.c = j\n",
    "        \n",
    "    def es_negro(self, estado, f, c):\n",
    "        return bool(Hitori.valor_casilla(estado,f,c) == 0)\n",
    "    \n",
    "    def es_blanco(self, f, c):\n",
    "        return not bool(Hitori.valor_casilla(self,f,c) == 0)\n",
    "    \n",
    "    def negro_colindante(self, estado):\n",
    "        arriba = False\n",
    "        abajo = False\n",
    "        izquierda = False\n",
    "        derecha = False\n",
    "        \n",
    "        if self.f < (Hitori.tamaño_ver(estado)-1):\n",
    "            abajo = self.es_negro(estado, (self.f)+1, self.c)\n",
    "         \n",
    "        if self.f > 0:\n",
    "            arriba = self.es_negro(estado, (self.f)-1, self.c)\n",
    "            \n",
    "        if self.c < (Hitori.tamaño_hor(estado)-1):\n",
    "            derecha = self.es_negro(estado, self.f, (self.c)+1)\n",
    "            \n",
    "        if self.c > 0:\n",
    "            izquierda = self.es_negro(estado, self.f, (self.c)-1)\n",
    "            \n",
    "        return arriba or abajo or izquierda or derecha\n",
    "    \n",
    "    def duplicado_fila(self, estado):\n",
    "        result = False\n",
    "        tamaño = Hitori.tamaño_hor(estado)\n",
    "        limite_izq = self.c\n",
    "        limite_der = tamaño\n",
    "        for i in range(0, limite_izq):\n",
    "            if Hitori.valor_casilla(estado, self.f,self.c) != 0:\n",
    "                if Hitori.valor_casilla(estado, self.f, i) == Hitori.valor_casilla(estado, self.f, self.c):\n",
    "                    result = True\n",
    "                \n",
    "        for j in range((self.c)+1, limite_der):\n",
    "            if Hitori.valor_casilla(estado, self.f,self.c) != 0:\n",
    "                 if Hitori.valor_casilla(estado, self.f, j) == Hitori.valor_casilla(estado, self.f, self.c):\n",
    "                    result = True\n",
    "                \n",
    "        return result\n",
    "    \n",
    "    def duplicado_columna(self, estado):\n",
    "        result = False\n",
    "        tamaño = Hitori.tamaño_ver(estado)\n",
    "        limite_izq = self.f\n",
    "        limite_der = tamaño\n",
    "        for i in range(0, limite_izq):\n",
    "            if Hitori.valor_casilla(estado, self.f,self.c) != 0:\n",
    "                if Hitori.valor_casilla(estado, i, self.c) == Hitori.valor_casilla(estado, self.f, self.c):\n",
    "                    result = True\n",
    "                \n",
    "        for j in range((self.f)+1, limite_der):\n",
    "            if Hitori.valor_casilla(estado, self.f,self.c) != 0:\n",
    "                 if Hitori.valor_casilla(estado, j, self.c) == Hitori.valor_casilla(estado, self.f, self.c):\n",
    "                    result = True\n",
    "                \n",
    "        return result\n",
    "    \n",
    "    #\n",
    "    #\n",
    "    #           ------------------------\n",
    "    #          |       |  0  |        |\n",
    "    #          ------------------------\n",
    "    #          |    0  |     |  0     |\n",
    "    #          -----------------------\n",
    "    #          |       |  x  |        |\n",
    "    #          -----------------------\n",
    "    #\n",
    "    #\n",
    "    #\n",
    "    #\n",
    "    def abajo_encierra(self, estado):\n",
    "        arriba = True\n",
    "        arriba_derecha = True\n",
    "        arriba_izquierda = True\n",
    "        \n",
    "        if self.f > 0 and self.c > 0:\n",
    "            if not self.es_negro(estado, (self.f)-1, (self.c)-1):\n",
    "                arriba_izquierda = False        \n",
    "                \n",
    "        if self.f > 0 and self.c < (Hitori.tamaño_hor(estado)-1):      \n",
    "            if not self.es_negro(estado, (self.f)-1, (self.c)+1):\n",
    "                arriba_derecha = False\n",
    "                \n",
    "        if self.f > 1: \n",
    "            if not self.es_negro(estado, (self.f)-2, self.c):\n",
    "                arriba = False\n",
    "                \n",
    "        if self.f == 0:\n",
    "            arriba = False\n",
    "            arriba_derecha = False\n",
    "            arriba_izquierda = False\n",
    "            \n",
    "            \n",
    "        return arriba and arriba_derecha and arriba_izquierda    \n",
    "        \n",
    "    #\n",
    "    #\n",
    "    #           ------------------------\n",
    "    #          |       |  x  |        |\n",
    "    #          ------------------------\n",
    "    #          |    0  |     |  0     |\n",
    "    #          -----------------------\n",
    "    #          |       |  0  |        |\n",
    "    #          -----------------------\n",
    "    #\n",
    "    #\n",
    "    #\n",
    "    #\n",
    "    def arriba_encierra(self, estado):\n",
    "        abajo = True\n",
    "        abajo_derecha = True\n",
    "        abajo_izquierda = True\n",
    "        \n",
    "        if self.f < Hitori.tamaño_ver(estado)-1 and self.c > 0:\n",
    "            if not self.es_negro(estado, (self.f)+1, (self.c)-1):\n",
    "                abajo_izquierda = False        \n",
    "                \n",
    "        if self.f < (Hitori.tamaño_ver(estado)-1) and self.c < (Hitori.tamaño_hor(estado)-1):      \n",
    "            if not self.es_negro(estado, (self.f)+1, (self.c)+1):\n",
    "                abajo_derecha = False\n",
    "                \n",
    "        if self.f < (Hitori.tamaño_ver(estado)-2): \n",
    "            if not self.es_negro(estado, (self.f)+2, self.c):\n",
    "                abajo = False\n",
    "                \n",
    "        if self.f == (Hitori.tamaño_ver(estado)-1):\n",
    "            abajo = False\n",
    "            abajo_derecha = False\n",
    "            abajo_izquierda = False\n",
    "            \n",
    "            \n",
    "        return abajo and abajo_derecha and abajo_izquierda    \n",
    "      \n",
    "    #\n",
    "    #\n",
    "    #           ------------------------\n",
    "    #          |       |  0  |        |\n",
    "    #          ------------------------\n",
    "    #          |    0  |     |  x     |\n",
    "    #          -----------------------\n",
    "    #          |       |  0  |        |\n",
    "    #          -----------------------\n",
    "    #\n",
    "    #\n",
    "    #\n",
    "    #\n",
    "    def derecha_encierra(self, estado):\n",
    "        izquierda = True\n",
    "        arriba = True\n",
    "        abajo = True\n",
    "        \n",
    "        if self.f > 0 and self.c > 0:\n",
    "            if not self.es_negro(estado, (self.f)-1, (self.c)-1):\n",
    "                arriba = False        \n",
    "                \n",
    "        if self.f < (Hitori.tamaño_ver(estado)-1) and self.c > 0:      \n",
    "            if not self.es_negro(estado, (self.f)+1, (self.c)-1):\n",
    "                abajo = False\n",
    "                \n",
    "        if self.c > 1: \n",
    "            if not self.es_negro(estado, (self.f), self.c-2):\n",
    "                izquierda = False\n",
    "                \n",
    "        if self.c == 0:\n",
    "            izquierda = False\n",
    "            arriba = False\n",
    "            abajo = False\n",
    "            \n",
    "            \n",
    "        return izquierda and arriba and abajo  \n",
    "    \n",
    "    #\n",
    "    #\n",
    "    #           ------------------------\n",
    "    #          |       |  0  |        |\n",
    "    #          ------------------------\n",
    "    #          |    x  |     |  0     |\n",
    "    #          -----------------------\n",
    "    #          |       |  0  |        |\n",
    "    #          -----------------------\n",
    "    #\n",
    "    #\n",
    "    #\n",
    "    #\n",
    "    def izquierda_encierra(self, estado):\n",
    "        derecha = True\n",
    "        arriba = True\n",
    "        abajo = True\n",
    "        \n",
    "        if self.f > 0 and self.c < Hitori.tamaño_hor(estado)-1:\n",
    "            if not self.es_negro(estado, (self.f)-1, (self.c)+1):\n",
    "                arriba = False        \n",
    "                \n",
    "        if self.f < (Hitori.tamaño_ver(estado)-1) and self.c < (Hitori.tamaño_hor(estado)-1):      \n",
    "            if not self.es_negro(estado, (self.f)+1, (self.c)+1):\n",
    "                abajo = False\n",
    "                \n",
    "        if self.c < Hitori.tamaño_hor(estado)-2: \n",
    "            if not self.es_negro(estado, (self.f), self.c+2):\n",
    "                derecha = False\n",
    "                \n",
    "        if self.c == (Hitori.tamaño_hor(estado)-1):\n",
    "            derecha = False\n",
    "            arriba = False\n",
    "            abajo = False\n",
    "            \n",
    "            \n",
    "        return derecha and arriba and abajo    \n",
    "     \n",
    "        \n",
    "    #Si se cumple alguna de las restricciones, poner negro la casilla provoca de se encierre una casilla\n",
    "    def encierra(self, estado):\n",
    "        abajo_encierra = self.abajo_encierra(estado)\n",
    "        arriba_encierra = self.arriba_encierra(estado)\n",
    "        izquierda_encierra = self.izquierda_encierra(estado)\n",
    "        derecha_encierra = self.derecha_encierra(estado)\n",
    "        \n",
    "        \n",
    "        return abajo_encierra or arriba_encierra or izquierda_encierra or derecha_encierra\n",
    "    \n",
    "    def diagonal_arriba_derecha(self, estado):\n",
    "        limite = min(self.f, Hitori.tamaño_hor(estado)-1-self.c)\n",
    "        result = False\n",
    "        if self.f != 0 and (self.c != Hitori.tamaño_hor(estado)-1):\n",
    "            for ac in range(1,limite+1):\n",
    "                if not self.es_negro(estado, self.f-ac, self.c+ac):\n",
    "                    result = False\n",
    "                    break\n",
    "                else: \n",
    "                    result = True\n",
    "                    \n",
    "        else:\n",
    "            result = False\n",
    "            \n",
    "        return result\n",
    "    \n",
    "    def diagonal_arriba_izquierda(self, estado):\n",
    "        limite = min(self.f, self.c)\n",
    "        result = False\n",
    "        if self.f != 0 and self.c != 0:\n",
    "            for ac in range(1,limite+1):\n",
    "                if not self.es_negro(estado, self.f-ac, self.c-ac):\n",
    "                    result = False\n",
    "                    break\n",
    "                else: \n",
    "                    result = True\n",
    "                    \n",
    "        else:\n",
    "            result = False\n",
    "            \n",
    "        return result   \n",
    "    \n",
    "    def diagonal_abajo_derecha(self, estado):\n",
    "        limite = min(Hitori.tamaño_ver(estado)-1-self.f, Hitori.tamaño_hor(estado)-1-self.c)\n",
    "        result = False\n",
    "        if (self.f != Hitori.tamaño_ver(estado)-1) and (self.c != Hitori.tamaño_hor(estado)-1):\n",
    "            for ac in range(1,limite+1):\n",
    "                if not self.es_negro(estado, self.f+ac, self.c+ac):\n",
    "                    result = False\n",
    "                    break\n",
    "                else: \n",
    "                    result = True\n",
    "                    \n",
    "        else:\n",
    "            result = False\n",
    "            \n",
    "        return result\n",
    "      \n",
    "    def diagonal_abajo_izquierda(self, estado):\n",
    "        limite = min(Hitori.tamaño_ver(estado)-1-self.f, self.c)\n",
    "        result = False\n",
    "        if (self.f != Hitori.tamaño_ver(estado)-1) and self.c != 0:\n",
    "            for ac in range(1,limite+1):\n",
    "                if not self.es_negro(estado, self.f+ac, self.c-ac):\n",
    "                    result = False\n",
    "                    break\n",
    "                else: \n",
    "                    result = True\n",
    "                    \n",
    "        else:\n",
    "            result = False\n",
    "            \n",
    "        return result \n",
    "    \n",
    "    def parte_matriz(self, estado):\n",
    "        arriba_derecha = self.diagonal_abajo_derecha\n",
    "        arriba_izquierda = self.diagonal_abajo_izquierda\n",
    "        abajo_derecha = self.diagonal_abajo_derecha\n",
    "        abajo_izquierda = self.diagonal_abajo_izquierda\n",
    "        \n",
    "        return ((arriba_derecha and arriba_izquierda) \n",
    "                or (arriba_derecha and abajo_derecha) \n",
    "                or (arriba_derecha and abajo_izquierda) \n",
    "                or (arriba_izquierda and arriba_derecha) \n",
    "                or (arriba_izquierda and abajo_derecha) \n",
    "                or (abajo_derecha and abajo_izquierda))\n",
    "        \n",
    "    def es_aplicable(self, estado):\n",
    "        return bool(not self.negro_colindante(estado)\n",
    "                    and not self.parte_matriz(estado)\n",
    "                    and not self.encierra(estado)\n",
    "                    and (self.duplicado_fila(estado)\n",
    "                        or self.duplicado_columna(estado)))\n",
    "        \n",
    "    \n",
    "    def aplicar(self, estado):\n",
    "        nuevo_estado = copy.deepcopy(estado)\n",
    "        nuevo_estado.casillas[self.f][self.c] = 0\n",
    "        return nuevo_estado\n",
    "    \n",
    "    def es_estado_final(self, estado):\n",
    "        return not bool(self.duplicado_fila(estado) or self.duplicado_columna(estado))"
   ]
  },
  {
   "cell_type": "code",
   "execution_count": 540,
   "metadata": {},
   "outputs": [
    {
     "data": {
      "text/plain": [
       "False"
      ]
     },
     "execution_count": 540,
     "metadata": {},
     "output_type": "execute_result"
    }
   ],
   "source": [
    "acciones[7].arriba_encierra(estado_inicial)"
   ]
  },
  {
   "cell_type": "code",
   "execution_count": 541,
   "metadata": {},
   "outputs": [],
   "source": [
    "estado_inicial = Hitori([[1,2,1],\n",
    "                         [2,2,1],\n",
    "                         [3,1,2]])"
   ]
  },
  {
   "cell_type": "code",
   "execution_count": 542,
   "metadata": {},
   "outputs": [],
   "source": [
    "estado_final = Hitori([[1,2,0],\n",
    "                       [2,0,1],\n",
    "                       [3,1,2]])"
   ]
  },
  {
   "cell_type": "code",
   "execution_count": 543,
   "metadata": {},
   "outputs": [
    {
     "name": "stdout",
     "output_type": "stream",
     "text": [
      "3\n"
     ]
    }
   ],
   "source": [
    "print(Hitori.tamaño_hor(estado_inicial))"
   ]
  },
  {
   "cell_type": "code",
   "execution_count": 544,
   "metadata": {},
   "outputs": [],
   "source": [
    "acciones = [Poner_negro (i,j) for i in range(0, Hitori.tamaño_hor(estado_inicial)) for j in range(0, Hitori.tamaño_ver(estado_inicial))]"
   ]
  },
  {
   "cell_type": "code",
   "execution_count": 545,
   "metadata": {},
   "outputs": [
    {
     "data": {
      "text/plain": [
       "[<__main__.Poner_negro at 0x1a39bfb2a58>,\n",
       " <__main__.Poner_negro at 0x1a39bfb2748>,\n",
       " <__main__.Poner_negro at 0x1a39bfb2e80>,\n",
       " <__main__.Poner_negro at 0x1a39bfb2ac8>,\n",
       " <__main__.Poner_negro at 0x1a39bfb2d30>,\n",
       " <__main__.Poner_negro at 0x1a39bfb22e8>,\n",
       " <__main__.Poner_negro at 0x1a39bfb22b0>,\n",
       " <__main__.Poner_negro at 0x1a39bfb2390>,\n",
       " <__main__.Poner_negro at 0x1a39bfb2908>]"
      ]
     },
     "execution_count": 545,
     "metadata": {},
     "output_type": "execute_result"
    }
   ],
   "source": [
    "acciones"
   ]
  },
  {
   "cell_type": "code",
   "execution_count": 546,
   "metadata": {},
   "outputs": [
    {
     "data": {
      "text/plain": [
       "2"
      ]
     },
     "execution_count": 546,
     "metadata": {},
     "output_type": "execute_result"
    }
   ],
   "source": [
    "Hitori.valor_casilla(estado_inicial,0,1)\n"
   ]
  },
  {
   "cell_type": "code",
   "execution_count": 547,
   "metadata": {},
   "outputs": [],
   "source": [
    "problema = probee.ProblemaEspacioEstados(acciones, estado_inicial, [])\n"
   ]
  },
  {
   "cell_type": "code",
   "execution_count": 548,
   "metadata": {},
   "outputs": [
    {
     "name": "stdout",
     "output_type": "stream",
     "text": [
      "b_optima_nueva.buscar[problema]\n",
      "\n",
      "\n",
      "b_optima_nueva.buscar[problema]\n",
      "Nodo: Estado: [[1, 2, 1], [2, 2, 1], [3, 1, 2]]; Prof: 0\n"
     ]
    }
   ],
   "source": [
    "print(\"b_optima_nueva.buscar[problema]\")\n",
    "b_optima_nueva = búsqee.BúsquedaEnProfundidad(detallado=True)\n",
    "print(\"\\n\")\n",
    "print(\"b_optima_nueva.buscar[problema]\")\n",
    "b_optima_nueva.buscar(problema)"
   ]
  },
  {
   "cell_type": "code",
   "execution_count": 549,
   "metadata": {},
   "outputs": [
    {
     "data": {
      "text/plain": [
       "False"
      ]
     },
     "execution_count": 549,
     "metadata": {},
     "output_type": "execute_result"
    }
   ],
   "source": [
    "acciones[4].es_aplicable(estado_inicial)"
   ]
  },
  {
   "cell_type": "code",
   "execution_count": 550,
   "metadata": {},
   "outputs": [
    {
     "data": {
      "text/plain": [
       "False"
      ]
     },
     "execution_count": 550,
     "metadata": {},
     "output_type": "execute_result"
    }
   ],
   "source": [
    "acciones[8].diagonal_arriba_izquierda(estado_inicial)"
   ]
  },
  {
   "cell_type": "code",
   "execution_count": 551,
   "metadata": {},
   "outputs": [
    {
     "name": "stdout",
     "output_type": "stream",
     "text": [
      "[[1, 2, 1], [2, 2, 1], [3, 1, 2]]\n"
     ]
    }
   ],
   "source": [
    "print(estado_inicial)"
   ]
  },
  {
   "cell_type": "code",
   "execution_count": 552,
   "metadata": {},
   "outputs": [
    {
     "data": {
      "text/plain": [
       "False"
      ]
     },
     "execution_count": 552,
     "metadata": {},
     "output_type": "execute_result"
    }
   ],
   "source": [
    "acciones[5].es_estado_final(estado_inicial)"
   ]
  },
  {
   "cell_type": "code",
   "execution_count": null,
   "metadata": {},
   "outputs": [],
   "source": []
  },
  {
   "cell_type": "code",
   "execution_count": null,
   "metadata": {},
   "outputs": [],
   "source": []
  }
 ],
 "metadata": {
  "kernelspec": {
   "display_name": "Python 3",
   "language": "python",
   "name": "python3"
  },
  "language_info": {
   "codemirror_mode": {
    "name": "ipython",
    "version": 3
   },
   "file_extension": ".py",
   "mimetype": "text/x-python",
   "name": "python",
   "nbconvert_exporter": "python",
   "pygments_lexer": "ipython3",
   "version": "3.7.3"
  }
 },
 "nbformat": 4,
 "nbformat_minor": 2
}
