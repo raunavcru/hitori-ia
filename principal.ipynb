{
 "cells": [
  {
   "cell_type": "code",
   "execution_count": 98,
   "metadata": {},
   "outputs": [],
   "source": [
    "import problema_espacio_estados as probee\n",
    "import búsqueda_espacio_estados as búsqee\n",
    "import copy"
   ]
  },
  {
   "cell_type": "code",
   "execution_count": null,
   "metadata": {
    "scrolled": true
   },
   "outputs": [],
   "source": []
  },
  {
   "cell_type": "code",
   "execution_count": 99,
   "metadata": {},
   "outputs": [],
   "source": [
    "class Hitori(probee.Acción):\n",
    "    def __init__(self, casillas):\n",
    "        self.casillas = casillas\n",
    "    \n",
    "    def tamaño_hor(self):\n",
    "        return len(self.casillas[0])\n",
    "    \n",
    "    def tamaño_ver(self):\n",
    "        return len(self.casillas)\n",
    "    \n",
    "    def valor_casilla(self, f, c):\n",
    "        return self.casillas[f][c]\n",
    "    \n",
    "    def es_negro(self, f, c):\n",
    "        return bool(Hitori.valor_casilla(self,f,c) == 0)\n",
    "    \n",
    "    def es_blanco(self, f, c):\n",
    "        return not bool(Hitori.valor_casilla(self,f,c) == 0)\n",
    "    \n",
    "    def negro_colindante(self, f, c):\n",
    "        return bool(Hitori.es_negro(self, f+1, c)\n",
    "                       or Hitori.es_negro(self, f-1, c)\n",
    "                       or Hitori.es_negro(self, f, c+1)\n",
    "                       or Hitori.es_negro(self, f, c-1))\n",
    "    \n",
    "    def duplicado_fila(self, f, c):\n",
    "        result = False\n",
    "        tamaño = Hitori.tamaño_hor(self)\n",
    "        limite_izq = f\n",
    "        limite_der = tamaño\n",
    "        for i in range(0, limite_izq):\n",
    "            if Hitori.valor_casilla(self,f,i) == Hitori.valor_casilla(self,f,c):\n",
    "                result = True\n",
    "                \n",
    "        for j in range(f+1, limite_der):\n",
    "             if Hitori.valor_casilla(self,f,j) == Hitori.valor_casilla(self,f,c):\n",
    "                result = True\n",
    "                \n",
    "        return result\n",
    "    \n",
    "    def duplicado_columna(self, f, c):\n",
    "        result = False\n",
    "        tamaño = Hitori.tamaño_ver(self)\n",
    "        limite_izq = f\n",
    "        limite_der = tamaño\n",
    "        for i in range(0, limite_izq):\n",
    "            if Hitori.valor_casilla(self,i,c) == Hitori.valor_casilla(self,f,c):\n",
    "                result = True\n",
    "                \n",
    "        for j in range(f+1, limite_der):\n",
    "             if Hitori.valor_casilla(self,j,c) == Hitori.valor_casilla(self,f,c):\n",
    "                result = True\n",
    "                \n",
    "        return result\n",
    "        \n",
    "    \n",
    "    def es_aplicable(self, f, c):\n",
    "        return not bool(negro_colindante(self, f, c))\n",
    "        \n",
    "    \n",
    "    def poner_negro(self, f, c):\n",
    "        nuevo_estado = copy.deepcopy(self)\n",
    "        nuevo_estado.casillas[f][c] = 0\n",
    "        return nuevo_estado\n",
    "        \n",
    "    \n",
    "        "
   ]
  },
  {
   "cell_type": "code",
   "execution_count": 100,
   "metadata": {},
   "outputs": [],
   "source": [
    "estado_inicial = Hitori([[3,2,2],\n",
    "                         [2,7,1],\n",
    "                         [6,1,2]])"
   ]
  },
  {
   "cell_type": "code",
   "execution_count": 101,
   "metadata": {},
   "outputs": [],
   "source": [
    "estado_final = Hitori([[2,2,2],\n",
    "                       [2,2,2],\n",
    "                       [2,2,2]])"
   ]
  },
  {
   "cell_type": "code",
   "execution_count": 102,
   "metadata": {},
   "outputs": [
    {
     "name": "stdout",
     "output_type": "stream",
     "text": [
      "True\n"
     ]
    }
   ],
   "source": [
    "print(Hitori.duplicado_fila(estado_inicial,1,0))"
   ]
  },
  {
   "cell_type": "code",
   "execution_count": null,
   "metadata": {},
   "outputs": [],
   "source": []
  },
  {
   "cell_type": "code",
   "execution_count": 103,
   "metadata": {},
   "outputs": [],
   "source": [
    "accion = probee.Acción(\"Poner a negro\", Hitori.es_aplicable, Hitori.poner_negro,\n",
    "1)\n"
   ]
  },
  {
   "cell_type": "code",
   "execution_count": 104,
   "metadata": {},
   "outputs": [],
   "source": [
    "problema = probee.ProblemaEspacioEstados([Hitori.poner_negro], estado_inicial, [estado_final])\n"
   ]
  },
  {
   "cell_type": "code",
   "execution_count": 105,
   "metadata": {},
   "outputs": [
    {
     "name": "stdout",
     "output_type": "stream",
     "text": [
      "b_optima_nueva.buscar[problema]\n",
      "\n",
      "\n",
      "b_optima_nueva.buscar[problema]\n"
     ]
    },
    {
     "ename": "AttributeError",
     "evalue": "'function' object has no attribute 'es_aplicable'",
     "output_type": "error",
     "traceback": [
      "\u001b[1;31m---------------------------------------------------------------------------\u001b[0m",
      "\u001b[1;31mAttributeError\u001b[0m                            Traceback (most recent call last)",
      "\u001b[1;32m<ipython-input-105-f16ec8218605>\u001b[0m in \u001b[0;36m<module>\u001b[1;34m\u001b[0m\n\u001b[0;32m      3\u001b[0m \u001b[0mprint\u001b[0m\u001b[1;33m(\u001b[0m\u001b[1;34m\"\\n\"\u001b[0m\u001b[1;33m)\u001b[0m\u001b[1;33m\u001b[0m\u001b[1;33m\u001b[0m\u001b[0m\n\u001b[0;32m      4\u001b[0m \u001b[0mprint\u001b[0m\u001b[1;33m(\u001b[0m\u001b[1;34m\"b_optima_nueva.buscar[problema]\"\u001b[0m\u001b[1;33m)\u001b[0m\u001b[1;33m\u001b[0m\u001b[1;33m\u001b[0m\u001b[0m\n\u001b[1;32m----> 5\u001b[1;33m \u001b[0mprint\u001b[0m\u001b[1;33m(\u001b[0m\u001b[0mb_optima_nueva\u001b[0m\u001b[1;33m.\u001b[0m\u001b[0mbuscar\u001b[0m\u001b[1;33m(\u001b[0m\u001b[0mproblema\u001b[0m\u001b[1;33m)\u001b[0m\u001b[1;33m)\u001b[0m\u001b[1;33m\u001b[0m\u001b[1;33m\u001b[0m\u001b[0m\n\u001b[0m",
      "\u001b[1;32m~\\Desktop\\Hitori\\búsqueda_espacio_estados.py\u001b[0m in \u001b[0;36mbuscar\u001b[1;34m(self, problema)\u001b[0m\n\u001b[0;32m    142\u001b[0m             \u001b[1;32mif\u001b[0m \u001b[0mself\u001b[0m\u001b[1;33m.\u001b[0m\u001b[0mes_expandible\u001b[0m\u001b[1;33m(\u001b[0m\u001b[0mnodo\u001b[0m\u001b[1;33m)\u001b[0m\u001b[1;33m:\u001b[0m\u001b[1;33m\u001b[0m\u001b[1;33m\u001b[0m\u001b[0m\n\u001b[0;32m    143\u001b[0m                 \u001b[0mnodos_hijos\u001b[0m \u001b[1;33m=\u001b[0m \u001b[0mself\u001b[0m\u001b[1;33m.\u001b[0m\u001b[0mexpandir_nodo\u001b[0m\u001b[1;33m(\u001b[0m\u001b[0mnodo\u001b[0m\u001b[1;33m,\u001b[0m \u001b[0mproblema\u001b[0m\u001b[1;33m)\u001b[0m\u001b[1;33m\u001b[0m\u001b[1;33m\u001b[0m\u001b[0m\n\u001b[1;32m--> 144\u001b[1;33m                 \u001b[1;32mfor\u001b[0m \u001b[0mnodo_hijo\u001b[0m \u001b[1;32min\u001b[0m \u001b[0mnodos_hijos\u001b[0m\u001b[1;33m:\u001b[0m\u001b[1;33m\u001b[0m\u001b[1;33m\u001b[0m\u001b[0m\n\u001b[0m\u001b[0;32m    145\u001b[0m                     \u001b[1;32mif\u001b[0m \u001b[0mself\u001b[0m\u001b[1;33m.\u001b[0m\u001b[0mes_nuevo\u001b[0m\u001b[1;33m(\u001b[0m\u001b[0mnodo_hijo\u001b[0m\u001b[1;33m)\u001b[0m\u001b[1;33m:\u001b[0m\u001b[1;33m\u001b[0m\u001b[1;33m\u001b[0m\u001b[0m\n\u001b[0;32m    146\u001b[0m                         \u001b[0mself\u001b[0m\u001b[1;33m.\u001b[0m\u001b[0mfrontera\u001b[0m\u001b[1;33m.\u001b[0m\u001b[0mañadir\u001b[0m\u001b[1;33m(\u001b[0m\u001b[0mnodo_hijo\u001b[0m\u001b[1;33m)\u001b[0m\u001b[1;33m\u001b[0m\u001b[1;33m\u001b[0m\u001b[0m\n",
      "\u001b[1;32m~\\Desktop\\Hitori\\búsqueda_espacio_estados.py\u001b[0m in \u001b[0;36m<genexpr>\u001b[1;34m(.0)\u001b[0m\n\u001b[0;32m    120\u001b[0m \u001b[1;33m\u001b[0m\u001b[0m\n\u001b[0;32m    121\u001b[0m     \u001b[1;32mdef\u001b[0m \u001b[0mexpandir_nodo\u001b[0m\u001b[1;33m(\u001b[0m\u001b[0mself\u001b[0m\u001b[1;33m,\u001b[0m \u001b[0mnodo\u001b[0m\u001b[1;33m,\u001b[0m \u001b[0mproblema\u001b[0m\u001b[1;33m)\u001b[0m\u001b[1;33m:\u001b[0m\u001b[1;33m\u001b[0m\u001b[1;33m\u001b[0m\u001b[0m\n\u001b[1;32m--> 122\u001b[1;33m         return (nodo.sucesor(acción)\n\u001b[0m\u001b[0;32m    123\u001b[0m                 for acción in problema.acciones_aplicables(nodo.estado))\n\u001b[0;32m    124\u001b[0m \u001b[1;33m\u001b[0m\u001b[0m\n",
      "\u001b[1;32m~\\Desktop\\Hitori\\problema_espacio_estados.py\u001b[0m in \u001b[0;36m<genexpr>\u001b[1;34m(.0)\u001b[0m\n\u001b[0;32m     45\u001b[0m         return (acción\n\u001b[0;32m     46\u001b[0m                 \u001b[1;32mfor\u001b[0m \u001b[0macción\u001b[0m \u001b[1;32min\u001b[0m \u001b[0mself\u001b[0m\u001b[1;33m.\u001b[0m\u001b[0macciones\u001b[0m\u001b[1;33m\u001b[0m\u001b[1;33m\u001b[0m\u001b[0m\n\u001b[1;32m---> 47\u001b[1;33m                 if acción.es_aplicable(estado))\n\u001b[0m",
      "\u001b[1;31mAttributeError\u001b[0m: 'function' object has no attribute 'es_aplicable'"
     ]
    }
   ],
   "source": [
    "print(\"b_optima_nueva.buscar[problema]\")\n",
    "b_optima_nueva = búsqee.BúsquedaÓptima()\n",
    "print(\"\\n\")\n",
    "print(\"b_optima_nueva.buscar[problema]\")\n",
    "print(b_optima_nueva.buscar(problema))"
   ]
  },
  {
   "cell_type": "code",
   "execution_count": 119,
   "metadata": {},
   "outputs": [
    {
     "data": {
      "text/plain": [
       "'7'"
      ]
     },
     "execution_count": 119,
     "metadata": {},
     "output_type": "execute_result"
    }
   ],
   "source": []
  },
  {
   "cell_type": "code",
   "execution_count": 136,
   "metadata": {},
   "outputs": [
    {
     "data": {
      "text/plain": [
       "0"
      ]
     },
     "execution_count": 136,
     "metadata": {},
     "output_type": "execute_result"
    }
   ],
   "source": []
  },
  {
   "cell_type": "code",
   "execution_count": 156,
   "metadata": {},
   "outputs": [],
   "source": []
  },
  {
   "cell_type": "code",
   "execution_count": 157,
   "metadata": {},
   "outputs": [
    {
     "data": {
      "text/plain": [
       "[[0, 2, 1], [2, 0, 1], [6, 1, 2]]"
      ]
     },
     "execution_count": 157,
     "metadata": {},
     "output_type": "execute_result"
    }
   ],
   "source": []
  },
  {
   "cell_type": "code",
   "execution_count": null,
   "metadata": {},
   "outputs": [],
   "source": []
  }
 ],
 "metadata": {
  "kernelspec": {
   "display_name": "Python 3",
   "language": "python",
   "name": "python3"
  },
  "language_info": {
   "codemirror_mode": {
    "name": "ipython",
    "version": 3
   },
   "file_extension": ".py",
   "mimetype": "text/x-python",
   "name": "python",
   "nbconvert_exporter": "python",
   "pygments_lexer": "ipython3",
   "version": "3.7.3"
  }
 },
 "nbformat": 4,
 "nbformat_minor": 2
}
