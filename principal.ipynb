{
 "cells": [
  {
   "cell_type": "code",
   "execution_count": 8,
   "metadata": {},
   "outputs": [],
   "source": [
    "import problema_espacio_estados as probee\n",
    "import búsqueda_espacio_estados as búsqee\n",
    "import copy"
   ]
  },
  {
   "cell_type": "code",
   "execution_count": 122,
   "metadata": {},
   "outputs": [],
   "source": [
    "class Hitori(probee.Acción):\n",
    "    def __init__(self, casillas):\n",
    "        self.casillas = casillas\n",
    "    \n",
    "    def tamaño_hor(self):\n",
    "        return len(self.casillas[0])\n",
    "    \n",
    "    def tamaño_ver(self):\n",
    "        return len(self.casillas)\n",
    "    \n",
    "    def valor_casilla(self, f, c):\n",
    "        return self.casillas[f][c]\n",
    "    \n",
    "    def es_negro(self, estado, f, c):\n",
    "        return bool(self.valor_casilla(estado,f,c) == 0)\n",
    "    \n",
    "    def es_blanco(self, estado, f, c):\n",
    "        return not bool(self.valor_casilla(estado,f,c) == 0)\n",
    "    \n",
    "    def negro_colindante(self, estado, f, c):\n",
    "        return bool(self.es_negro(estado, f, c)\n",
    "                   and (self.es_negro(estado, f+1, c)\n",
    "                       or self.es_negro(estado, f-1, c)\n",
    "                       or self.es_negro(estado, f, c+1)\n",
    "                       or self.es_negro(estado, f, c-1)))\n",
    "    \n",
    "    def poner_negro(self, estado, f, c):\n",
    "        nuevo_estado = copy.deepcopy(estado)\n",
    "        str(self.valor_casilla(nuevo_estado, f, c)).replace('valor_casilla(nuevo_estado, f, c)','0')\n",
    "        return nuevo_estado\n",
    "        \n",
    "    \n",
    "        "
   ]
  },
  {
   "cell_type": "code",
   "execution_count": 118,
   "metadata": {},
   "outputs": [],
   "source": [
    "estado = Hitori([[0,2,1],\n",
    "                 [2,7,1],\n",
    "                 [6,1,2]])"
   ]
  },
  {
   "cell_type": "code",
   "execution_count": 128,
   "metadata": {},
   "outputs": [
    {
     "ename": "NameError",
     "evalue": "name 'negro_colindante' is not defined",
     "output_type": "error",
     "traceback": [
      "\u001b[1;31m---------------------------------------------------------------------------\u001b[0m",
      "\u001b[1;31mNameError\u001b[0m                                 Traceback (most recent call last)",
      "\u001b[1;32m<ipython-input-128-3faa33007c1c>\u001b[0m in \u001b[0;36m<module>\u001b[1;34m\u001b[0m\n\u001b[1;32m----> 1\u001b[1;33m \u001b[0mnegro_colindante\u001b[0m\u001b[1;33m(\u001b[0m\u001b[0mHitori\u001b[0m\u001b[1;33m,\u001b[0m \u001b[0mestado\u001b[0m\u001b[1;33m,\u001b[0m \u001b[1;36m0\u001b[0m\u001b[1;33m,\u001b[0m\u001b[1;36m0\u001b[0m\u001b[1;33m)\u001b[0m\u001b[1;33m\u001b[0m\u001b[1;33m\u001b[0m\u001b[0m\n\u001b[0m",
      "\u001b[1;31mNameError\u001b[0m: name 'negro_colindante' is not defined"
     ]
    }
   ],
   "source": [
    "negro_colindante(Hitori, estado, 0,0)"
   ]
  },
  {
   "cell_type": "code",
   "execution_count": 119,
   "metadata": {},
   "outputs": [
    {
     "data": {
      "text/plain": [
       "'7'"
      ]
     },
     "execution_count": 119,
     "metadata": {},
     "output_type": "execute_result"
    }
   ],
   "source": [
    "str(Hitori.valor_casilla(estado, 1, 1)).replace('valor_casilla(estado, 1, 1)','0')"
   ]
  },
  {
   "cell_type": "code",
   "execution_count": null,
   "metadata": {},
   "outputs": [],
   "source": []
  },
  {
   "cell_type": "code",
   "execution_count": 120,
   "metadata": {},
   "outputs": [
    {
     "ename": "TypeError",
     "evalue": "poner_negro() missing 1 required positional argument: 'c'",
     "output_type": "error",
     "traceback": [
      "\u001b[1;31m---------------------------------------------------------------------------\u001b[0m",
      "\u001b[1;31mTypeError\u001b[0m                                 Traceback (most recent call last)",
      "\u001b[1;32m<ipython-input-120-fa6af29b667c>\u001b[0m in \u001b[0;36m<module>\u001b[1;34m\u001b[0m\n\u001b[1;32m----> 1\u001b[1;33m \u001b[0mnuevo_estado\u001b[0m \u001b[1;33m=\u001b[0m \u001b[0mHitori\u001b[0m\u001b[1;33m.\u001b[0m\u001b[0mponer_negro\u001b[0m\u001b[1;33m(\u001b[0m\u001b[0mestado\u001b[0m\u001b[1;33m,\u001b[0m\u001b[1;36m1\u001b[0m\u001b[1;33m,\u001b[0m\u001b[1;36m1\u001b[0m\u001b[1;33m)\u001b[0m\u001b[1;33m\u001b[0m\u001b[1;33m\u001b[0m\u001b[0m\n\u001b[0m",
      "\u001b[1;31mTypeError\u001b[0m: poner_negro() missing 1 required positional argument: 'c'"
     ]
    }
   ],
   "source": [
    "nuevo_estado = Hitori.poner_negro(estado,1,1)"
   ]
  },
  {
   "cell_type": "code",
   "execution_count": 121,
   "metadata": {},
   "outputs": [
    {
     "data": {
      "text/plain": [
       "[[0, 2, 1], [2, 7, 1], [6, 1, 2]]"
      ]
     },
     "execution_count": 121,
     "metadata": {},
     "output_type": "execute_result"
    }
   ],
   "source": [
    "nuevo_estado.casillas"
   ]
  },
  {
   "cell_type": "code",
   "execution_count": null,
   "metadata": {},
   "outputs": [],
   "source": []
  }
 ],
 "metadata": {
  "kernelspec": {
   "display_name": "Python 3",
   "language": "python",
   "name": "python3"
  },
  "language_info": {
   "codemirror_mode": {
    "name": "ipython",
    "version": 3
   },
   "file_extension": ".py",
   "mimetype": "text/x-python",
   "name": "python",
   "nbconvert_exporter": "python",
   "pygments_lexer": "ipython3",
   "version": "3.7.3"
  }
 },
 "nbformat": 4,
 "nbformat_minor": 2
}
